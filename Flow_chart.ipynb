{
 "cells": [
  {
   "cell_type": "code",
   "execution_count": null,
   "id": "3e966011",
   "metadata": {},
   "outputs": [],
   "source": [
    "# start\n",
    "# input numbers( you should get number)\n",
    "num1 = float(input(\"enter your first number\"))\n",
    "num2 = float(input(\"enter your second number\"))\n",
    "# comparision\n",
    "if num1>num2:\n",
    "    print(\"the greater number is :\",num1)\n",
    "else:\n",
    "    print(\"the greater number is :\",num2)\n",
    "# stop"
   ]
  }
 ],
 "metadata": {
  "kernelspec": {
   "display_name": "Python 3",
   "language": "python",
   "name": "python3"
  },
  "language_info": {
   "codemirror_mode": {
    "name": "ipython",
    "version": 3
   },
   "file_extension": ".py",
   "mimetype": "text/x-python",
   "name": "python",
   "nbconvert_exporter": "python",
   "pygments_lexer": "ipython3",
   "version": "3.10.11"
  }
 },
 "nbformat": 4,
 "nbformat_minor": 5
}
