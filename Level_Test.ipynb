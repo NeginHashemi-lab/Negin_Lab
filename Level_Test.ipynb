{
  "cells": [
    {
      "cell_type": "markdown",
      "metadata": {
        "id": "view-in-github",
        "colab_type": "text"
      },
      "source": [
        "<a href=\"https://colab.research.google.com/github/NeginHashemi-lab/Negin_Lab/blob/main/Level_Test.ipynb\" target=\"_parent\"><img src=\"https://colab.research.google.com/assets/colab-badge.svg\" alt=\"Open In Colab\"/></a>"
      ]
    },
    {
      "cell_type": "markdown",
      "metadata": {
        "id": "Wf5KrEb6vrkR"
      },
      "source": [
        "\n"
      ]
    },
    {
      "cell_type": "markdown",
      "source": [
        "**Level Test**\n"
      ],
      "metadata": {
        "id": "O_5v3VlffVh-"
      }
    },
    {
      "cell_type": "markdown",
      "source": [
        "\n",
        "# Q1 :\n",
        "calaulate the mod of three digit prime number(choose on your own) to 2 and proof that it is True"
      ],
      "metadata": {
        "id": "TrwTujHfgGpD"
      }
    },
    {
      "cell_type": "code",
      "source": [
        "prime_number = 7\n",
        "result = prime_number % 2\n",
        "print(result == 1)\n"
      ],
      "metadata": {
        "colab": {
          "base_uri": "https://localhost:8080/"
        },
        "id": "qVHeNGy6gndj",
        "outputId": "389122c6-fb27-447f-b25a-0dc7a788845d"
      },
      "execution_count": null,
      "outputs": [
        {
          "output_type": "stream",
          "name": "stdout",
          "text": [
            "True\n"
          ]
        }
      ]
    },
    {
      "cell_type": "markdown",
      "source": [
        "# Q2:\n",
        "code to get two string first print the type of input and then put them together(give it your name and last name)"
      ],
      "metadata": {
        "id": "_rEPLSWagz_M"
      }
    },
    {
      "cell_type": "code",
      "source": [
        "first_name = \"Negin\"\n",
        "last_name = \"Hashemi\"\n",
        "print(type(first_name), type(last_name))\n",
        "full_name = first_name + \" \" + last_name\n",
        "print(full_name)\n"
      ],
      "metadata": {
        "colab": {
          "base_uri": "https://localhost:8080/"
        },
        "id": "4vYEB70xg5jQ",
        "outputId": "8bb92291-410b-45eb-87c0-4afed630ae24"
      },
      "execution_count": null,
      "outputs": [
        {
          "output_type": "stream",
          "name": "stdout",
          "text": [
            "<class 'str'> <class 'str'>\n",
            "Negin Hashemi\n"
          ]
        }
      ]
    },
    {
      "cell_type": "markdown",
      "source": [
        "# Q3:\n",
        "create a list with 5 member and change the the three one to Iran"
      ],
      "metadata": {
        "id": "AxQ4EHE2hXbV"
      }
    },
    {
      "cell_type": "code",
      "source": [
        "my_list = [\"Negin\", \"Fatemeh\", \"Leyla\", \"Akram\", \"Zahra\"]\n",
        "my_list[2] = \"Iran\"\n",
        "print(my_list)\n"
      ],
      "metadata": {
        "colab": {
          "base_uri": "https://localhost:8080/"
        },
        "id": "-2OxpdO8hmGU",
        "outputId": "dd8396eb-d1aa-4ad1-bf84-11eb186d4d40"
      },
      "execution_count": null,
      "outputs": [
        {
          "output_type": "stream",
          "name": "stdout",
          "text": [
            "['Negin', 'Fatemeh', 'Iran', 'Akram', 'Zahra']\n"
          ]
        }
      ]
    },
    {
      "cell_type": "markdown",
      "source": [
        "# Q4:\n",
        "create a dictionary with 5 member assign a b c d e to 1 to 5 and print Dictionary items"
      ],
      "metadata": {
        "id": "MnyAmqLZiR1y"
      }
    },
    {
      "cell_type": "code",
      "source": [
        "negin_dictionary = {\"a\": 1, \"b\": 2, \"c\": 3, \"d\": 4, \"e\": 5}\n",
        "print(negin_dictionary.items())"
      ],
      "metadata": {
        "colab": {
          "base_uri": "https://localhost:8080/"
        },
        "id": "sc3gBp9QiT5G",
        "outputId": "8165af02-a573-42f9-993b-930b8792dadc"
      },
      "execution_count": null,
      "outputs": [
        {
          "output_type": "stream",
          "name": "stdout",
          "text": [
            "dict_items([('a', 1), ('b', 2), ('c', 3), ('d', 4), ('e', 5)])\n"
          ]
        }
      ]
    },
    {
      "cell_type": "markdown",
      "source": [
        "# Q5:\n",
        "Open an existing file in your computer and print last line(you can make a txt file then do it)"
      ],
      "metadata": {
        "id": "u0XZHe8bjciU"
      }
    },
    {
      "cell_type": "code",
      "source": [
        "file_path = \"C:/Users/Negin/Desktop/torkamanestan_line.txt\"\n",
        "with open(file_path, \"r\") as file:\n",
        "    lines = file.readlines()\n",
        "    print(lines[-1])\n"
      ],
      "metadata": {
        "colab": {
          "base_uri": "https://localhost:8080/",
          "height": 211
        },
        "id": "KKuEdwPwjeEa",
        "outputId": "4c7c9a80-2ed6-4e97-e5ed-c3cf990a5bef"
      },
      "execution_count": null,
      "outputs": [
        {
          "output_type": "error",
          "ename": "FileNotFoundError",
          "evalue": "[Errno 2] No such file or directory: 'C:/Users/Negin/Desktop/torkamanestan_line.txt'",
          "traceback": [
            "\u001b[0;31m---------------------------------------------------------------------------\u001b[0m",
            "\u001b[0;31mFileNotFoundError\u001b[0m                         Traceback (most recent call last)",
            "\u001b[0;32m<ipython-input-13-44e0b27acc92>\u001b[0m in \u001b[0;36m<cell line: 0>\u001b[0;34m()\u001b[0m\n\u001b[1;32m      2\u001b[0m \u001b[0;34m\u001b[0m\u001b[0m\n\u001b[1;32m      3\u001b[0m \u001b[0;31m#file_path = \"C:\\Users\\Negin\\Desktop\\torkamanestan_line.txt\"\u001b[0m\u001b[0;34m\u001b[0m\u001b[0;34m\u001b[0m\u001b[0m\n\u001b[0;32m----> 4\u001b[0;31m \u001b[0;32mwith\u001b[0m \u001b[0mopen\u001b[0m\u001b[0;34m(\u001b[0m\u001b[0mfile_path\u001b[0m\u001b[0;34m,\u001b[0m \u001b[0;34m\"r\"\u001b[0m\u001b[0;34m)\u001b[0m \u001b[0;32mas\u001b[0m \u001b[0mfile\u001b[0m\u001b[0;34m:\u001b[0m\u001b[0;34m\u001b[0m\u001b[0;34m\u001b[0m\u001b[0m\n\u001b[0m\u001b[1;32m      5\u001b[0m     \u001b[0mlines\u001b[0m \u001b[0;34m=\u001b[0m \u001b[0mfile\u001b[0m\u001b[0;34m.\u001b[0m\u001b[0mreadlines\u001b[0m\u001b[0;34m(\u001b[0m\u001b[0;34m)\u001b[0m\u001b[0;34m\u001b[0m\u001b[0;34m\u001b[0m\u001b[0m\n\u001b[1;32m      6\u001b[0m     \u001b[0mprint\u001b[0m\u001b[0;34m(\u001b[0m\u001b[0mlines\u001b[0m\u001b[0;34m[\u001b[0m\u001b[0;34m-\u001b[0m\u001b[0;36m1\u001b[0m\u001b[0;34m]\u001b[0m\u001b[0;34m)\u001b[0m\u001b[0;34m\u001b[0m\u001b[0;34m\u001b[0m\u001b[0m\n",
            "\u001b[0;31mFileNotFoundError\u001b[0m: [Errno 2] No such file or directory: 'C:/Users/Negin/Desktop/torkamanestan_line.txt'"
          ]
        }
      ]
    },
    {
      "cell_type": "markdown",
      "source": [
        "# Q6:\n",
        "Check 255 is greater than 188 and 255 is smaller than 189 in one line"
      ],
      "metadata": {
        "id": "CSa1pHS0lEUB"
      }
    },
    {
      "cell_type": "code",
      "source": [
        "print(\"True\" if 255 > 188 and 255 < 189 else \"False\")"
      ],
      "metadata": {
        "colab": {
          "base_uri": "https://localhost:8080/"
        },
        "id": "HLTDTRp5lMSf",
        "outputId": "575d23e3-bb0a-4be8-ddbc-d8938902ed33"
      },
      "execution_count": null,
      "outputs": [
        {
          "output_type": "stream",
          "name": "stdout",
          "text": [
            "False\n"
          ]
        }
      ]
    },
    {
      "cell_type": "markdown",
      "source": [
        "# Q7:\n",
        "assign a your name to variable name person check it among your friends name if its true print 'HOORA'"
      ],
      "metadata": {
        "id": "6enyUPZjm1bT"
      }
    },
    {
      "cell_type": "code",
      "source": [
        "person = \"Negin\"\n",
        "friends = [\"Fatemeh\", \"Akram\", \"Negin\", \"Leyla\"]\n",
        "if person in friends:\n",
        "    print(\"HOORA\")\n"
      ],
      "metadata": {
        "colab": {
          "base_uri": "https://localhost:8080/"
        },
        "id": "l85thGhamz7X",
        "outputId": "4ec145d1-f2df-4f1f-a281-1d8f43b67aa8"
      },
      "execution_count": null,
      "outputs": [
        {
          "output_type": "stream",
          "name": "stdout",
          "text": [
            "HOORA\n"
          ]
        }
      ]
    },
    {
      "cell_type": "markdown",
      "source": [
        "# Q8:\n",
        "create a list 1 to 10 then check for even numbers then print all using for loops\n"
      ],
      "metadata": {
        "id": "t3FeNqqWnEXh"
      }
    },
    {
      "cell_type": "code",
      "source": [
        "numbers = list(range(1, 11))\n",
        "for num in numbers:\n",
        "    if num % 2 == 0:\n",
        "      print(str(num) + \" is even\")\n",
        "    else:\n",
        "      print(num)\n"
      ],
      "metadata": {
        "colab": {
          "base_uri": "https://localhost:8080/"
        },
        "id": "PHFvGtzNnGAr",
        "outputId": "32531d45-adb6-421f-c69b-e4a7106e0a68"
      },
      "execution_count": 6,
      "outputs": [
        {
          "output_type": "stream",
          "name": "stdout",
          "text": [
            "1\n",
            "2 is even\n",
            "3\n",
            "4 is even\n",
            "5\n",
            "6 is even\n",
            "7\n",
            "8 is even\n",
            "9\n",
            "10 is even\n"
          ]
        }
      ]
    },
    {
      "cell_type": "markdown",
      "source": [
        "# Q9:\n",
        "consider x is 12 while x is between 10 to 15 print good else continue\n"
      ],
      "metadata": {
        "id": "vXNkRRKunntg"
      }
    },
    {
      "cell_type": "code",
      "source": [
        "x = 12\n",
        "while 10<= x <=15:\n",
        "  print(\"good\")\n",
        "  x+=1\n",
        "else:\n",
        "  pass"
      ],
      "metadata": {
        "colab": {
          "base_uri": "https://localhost:8080/"
        },
        "id": "KqbJtf37no70",
        "outputId": "ccc91f13-38a0-4ad5-f2d3-72a69d030eb3"
      },
      "execution_count": 15,
      "outputs": [
        {
          "output_type": "stream",
          "name": "stdout",
          "text": [
            "good\n",
            "good\n",
            "good\n",
            "good\n"
          ]
        }
      ]
    },
    {
      "cell_type": "markdown",
      "source": [
        "# Q10:\n",
        "make a list from 0 to 10000 with step of 100 using \"range\" shuffle this list and pick index 10"
      ],
      "metadata": {
        "id": "6mDObUHQoR3s"
      }
    },
    {
      "cell_type": "code",
      "source": [
        "import random\n",
        "my_list = list(range(0, 10001, 100))\n",
        "random.shuffle(my_list)\n",
        "print(my_list[10])\n"
      ],
      "metadata": {
        "colab": {
          "base_uri": "https://localhost:8080/"
        },
        "id": "MlfBt8iMoQ-r",
        "outputId": "ce8b0c7f-37b8-4808-f9bc-ba7cb3094ee8"
      },
      "execution_count": null,
      "outputs": [
        {
          "output_type": "stream",
          "name": "stdout",
          "text": [
            "7800\n"
          ]
        }
      ]
    },
    {
      "cell_type": "markdown",
      "source": [
        "# Q11:\n",
        "Consider list of 1 to 5 append 6 in it and count even number in it using a function\n"
      ],
      "metadata": {
        "id": "athfkCOtpDAL"
      }
    },
    {
      "cell_type": "code",
      "source": [
        "def count_even(lst):\n",
        "    return sum(1 for x in lst if x % 2 == 0)\n",
        "\n",
        "numbers = list(range(1, 6))\n",
        "numbers.append(6)\n",
        "print(numbers)\n",
        "print(\"Even numbers count:\", count_even(numbers))\n"
      ],
      "metadata": {
        "colab": {
          "base_uri": "https://localhost:8080/"
        },
        "id": "x4blngtUpKrp",
        "outputId": "e1c4c703-2608-49a3-decc-eaba69c5d636"
      },
      "execution_count": null,
      "outputs": [
        {
          "output_type": "stream",
          "name": "stdout",
          "text": [
            "[1, 2, 3, 4, 5, 6]\n",
            "Even numbers count: 3\n"
          ]
        }
      ]
    },
    {
      "cell_type": "markdown",
      "source": [
        "# Q12:\n",
        "write a function that get string and uppercase the first letter if it's capital print it's True\n"
      ],
      "metadata": {
        "id": "aUyLktq9pt9D"
      }
    },
    {
      "cell_type": "code",
      "source": [
        "def capitalize_word(word):\n",
        "    capitalized = word.capitalize()\n",
        "    if word[0] == capitalized[0]:\n",
        "        print(\"True\")\n",
        "    else:\n",
        "        print(capitalized)\n",
        "\n",
        "# Test cases\n",
        "capitalize_word(\"negin\")\n",
        "capitalize_word(\"Negin\")"
      ],
      "metadata": {
        "colab": {
          "base_uri": "https://localhost:8080/"
        },
        "id": "Tu4jCcGJpvBi",
        "outputId": "44aad6f6-f7a5-4046-a823-5a1407b88d22"
      },
      "execution_count": null,
      "outputs": [
        {
          "output_type": "stream",
          "name": "stdout",
          "text": [
            "Negin\n",
            "True\n"
          ]
        }
      ]
    }
  ],
  "metadata": {
    "colab": {
      "provenance": [],
      "include_colab_link": true
    },
    "kernelspec": {
      "display_name": "Python 3",
      "name": "python3"
    }
  },
  "nbformat": 4,
  "nbformat_minor": 0
}